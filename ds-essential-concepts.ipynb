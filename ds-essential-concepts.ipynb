{
 "cells": [
  {
   "cell_type": "markdown",
   "source": [
    "# 5 Essential Concepts for Data Scientists\r\n",
    "This notebook contains the code used in my medium article: <PLACEHOLDER LINK>\r\n"
   ],
   "metadata": {}
  },
  {
   "cell_type": "markdown",
   "source": [],
   "metadata": {}
  }
 ],
 "metadata": {
  "orig_nbformat": 4,
  "language_info": {
   "name": "python"
  }
 },
 "nbformat": 4,
 "nbformat_minor": 2
}